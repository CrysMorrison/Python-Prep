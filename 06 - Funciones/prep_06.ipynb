{
 "cells": [
  {
   "cell_type": "markdown",
   "metadata": {},
   "source": [
    "1) Crear una función que reciba un número como parámetro y devuelva si True si es primo y False si no lo es"
   ]
  },
  {
   "cell_type": "code",
   "execution_count": 23,
   "metadata": {},
   "outputs": [
    {
     "data": {
      "text/plain": [
       "False"
      ]
     },
     "execution_count": 23,
     "metadata": {},
     "output_type": "execute_result"
    }
   ],
   "source": [
    "def primo(numero):\n",
    "    count =0\n",
    "\n",
    "    for i in range(1,numero+1):\n",
    "        if(numero%i== 0):\n",
    "            count+=1\n",
    "    \n",
    "    if(count==2):\n",
    "        return True\n",
    "    else:\n",
    "        return False\n",
    "\n",
    "primo(15)   "
   ]
  },
  {
   "cell_type": "markdown",
   "metadata": {},
   "source": [
    "2) Utilizando la función del punto 1, realizar otra función que reciba de parámetro una lista de números y devuelva sólo aquellos que son primos en otra lista"
   ]
  },
  {
   "cell_type": "code",
   "execution_count": 29,
   "metadata": {},
   "outputs": [],
   "source": [
    "def cualesPrimos(lista):\n",
    "    primos=[]\n",
    "    for numero in lista:\n",
    "        respuesta=primo(numero)\n",
    "        if(numero==1):\n",
    "            primos.append(numero)    \n",
    "        elif(respuesta==True):\n",
    "            primos.append(numero)\n",
    "    return primos"
   ]
  },
  {
   "cell_type": "code",
   "execution_count": 30,
   "metadata": {},
   "outputs": [
    {
     "data": {
      "text/plain": [
       "[1, 2, 3, 5, 7, 11, 13, 17, 19]"
      ]
     },
     "execution_count": 30,
     "metadata": {},
     "output_type": "execute_result"
    }
   ],
   "source": [
    "cualesPrimos(list(range(0,20)))"
   ]
  },
  {
   "cell_type": "markdown",
   "metadata": {},
   "source": [
    "3) Crear una función que al recibir una lista de números, devuelva el que más se repite y cuántas veces lo hace. Si hay más de un \"más repetido\", que devuelva cualquiera"
   ]
  },
  {
   "cell_type": "code",
   "execution_count": 4,
   "metadata": {},
   "outputs": [
    {
     "data": {
      "text/plain": [
       "[5, 3, 0, -1, 4, -1, 0, 3, 5, 0, 5, 0, 3, 5, 0, 2, 1, 5, -1, 5]"
      ]
     },
     "execution_count": 4,
     "metadata": {},
     "output_type": "execute_result"
    }
   ],
   "source": [
    "import random\n",
    "aleatorios = [random.randint(-1,5) for _ in range(20)]\n",
    "aleatorios"
   ]
  },
  {
   "cell_type": "code",
   "execution_count": 5,
   "metadata": {},
   "outputs": [],
   "source": [
    "def repetidos(lista):\n",
    "\n",
    "    for i in lista:\n",
    "        if(len(numeros)==0):\n",
    "            dic[i]=lista.count(i)\n",
    "            numeros.append(i)\n",
    "        elif(numeros.count(i)==0):\n",
    "            numeros.append(i)\n",
    "            dic[i]=lista.count(i)\n",
    "    return dic,numeros\n",
    "    \n",
    "        \n",
    "    "
   ]
  },
  {
   "cell_type": "code",
   "execution_count": 16,
   "metadata": {},
   "outputs": [
    {
     "name": "stdout",
     "output_type": "stream",
     "text": [
      "{5: 6, 3: 3, 0: 5, -1: 3, 4: 1, 2: 1, 1: 1}\n",
      "Entrada no validad debe escribir (-) para min y (+) para maximo\n"
     ]
    }
   ],
   "source": [
    "import operator\n",
    "\n",
    "numeros=[]\n",
    "dic={}\n",
    "repetidos(aleatorios)\n",
    "print(dic)\n",
    "max_key = max(dic, key = dic.get)\n",
    "min_key = min(dic, key = dic.get)\n",
    "m=input('quiere un minimo(-) o un maximo(+): ')\n",
    "if(m == '+'):\n",
    "    print('el numero ', max_key, ' se repite ', dic[max_key], ' veces')\n",
    "elif(m =='-'):\n",
    "    print('el numero ', min_key, ' se repite ', dic[min_key], ' veces')\n",
    "else:\n",
    "    print('Entrada no validad debe escribir (-) para min y (+) para maximo')\n",
    "    \n"
   ]
  },
  {
   "cell_type": "markdown",
   "metadata": {},
   "source": [
    "5) Crear una función que convierta entre grados Celsius, Farenheit y Kelvin\n",
    "Fórmula 1 : (°C × 9/5) + 32 = °F\n",
    "Fórmula 2 : °C + 273.15 = °K\n",
    "Debe recibir 3 parámetros: el valor, la medida de orígen y la medida de destino"
   ]
  },
  {
   "cell_type": "code",
   "execution_count": 12,
   "metadata": {},
   "outputs": [
    {
     "name": "stdout",
     "output_type": "stream",
     "text": [
      "1  grados centigrados equivalen a  33.8  grados Farenheit\n",
      "1  grados Centrigrados a Farenheit es =  33.8\n",
      "1  grados Centrigrados a Kelvin es =  274.15\n",
      "1  grados Farenheit a Centrigrados es =  -17.22222222222222\n",
      "1  grados Farenheit a Kelvin es =  217.34999999999997\n",
      "1  grados Kelvin a Centrigrados es =  -272.15\n",
      "1  grados Kelvin a Farenheit es =  -119.19444444444446\n"
     ]
    }
   ],
   "source": [
    "c=0\n",
    "f=0\n",
    "k=0\n",
    "m=int(input('(1) c->f \\n (2) c->k \\n (3) f->c \\n (4) f->k \\n (5) k->c \\n (6) k->f'))\n",
    "if(type(m) != int):\n",
    "    print('debe escoger un numero de 1-6 para realizar la conversión')\n",
    "elif(m==1):\n",
    "    c=int(input('digite el valor en grados centigrados'))\n",
    "    print(c, ' grados centigrados equivalen a ', c_f(c), ' grados Farenheit')    \n",
    "elif(m==2):\n",
    "    c=int(input('digite el valor en grados centigrados'))\n",
    "    print(c, ' grados centigrados a ', c_k(c), ' grados kelvin')    \n",
    "elif(m==3):\n",
    "    c=int(input('digite el valor en grados Farenheit'))\n",
    "    print(c, ' grados Farenheit equivalen a ', f_c(c), ' grados Centigrados')    \n",
    "elif(m==4):\n",
    "    c=int(input('digite el valor en grados Farenheit'))\n",
    "    print(c, ' grados Farenheit equivalen a ', f_k(c), ' grados Kelvin')    \n",
    "elif(m==5):\n",
    "    c=int(input('digite el valor en grados Kelvin'))\n",
    "    print(c, ' grados Kelvin equivalen a ', k_c(c), ' grados Centigrados')    \n",
    "elif(m==6):\n",
    "    c=int(input('digite el valor en grados Kelvin'))\n",
    "    print(c, ' grados Kelvin equivalen a ', k_f(c), ' grados Farenheit')    \n",
    "\n",
    "grados=int(input('digite los grados que quiere convertir'))\n",
    "print(grados,' grados Centrigrados a Farenheit es = ', c_f(grados))\n",
    "print(grados,' grados Centrigrados a Kelvin es = ', c_k(grados))\n",
    "print(grados,' grados Farenheit a Centrigrados es = ', f_c(grados))\n",
    "print(grados,' grados Farenheit a Kelvin es = ', f_k(grados))\n",
    "print(grados,' grados Kelvin a Centrigrados es = ', k_c(grados))\n",
    "print(grados,' grados Kelvin a Farenheit es = ', k_f(grados))\n"
   ]
  },
  {
   "cell_type": "code",
   "execution_count": 3,
   "metadata": {},
   "outputs": [],
   "source": [
    "def c_f(c):\n",
    "    f=(c*9/5)+32\n",
    "    return f\n",
    "\n",
    "def f_c(f):\n",
    "    c=(f-32)*5/9\n",
    "    return c\n",
    "    \n",
    "def c_k(c):\n",
    "    k=c+273.15\n",
    "    return k\n",
    "    \n",
    "def k_c(k):\n",
    "    c=k-273.15\n",
    "    return c\n",
    "\n",
    "def f_k(f):\n",
    "    k=(f-32)*9/5+273.15\n",
    "    return k  \n",
    "\n",
    "def k_f(k):\n",
    "    f=(k-273.15)*5/9+32\n",
    "    return f"
   ]
  },
  {
   "cell_type": "markdown",
   "metadata": {},
   "source": [
    "6) Iterando una lista con los tres valores posibles de temperatura que recibe la función del punto 5, hacer un print para cada combinación de los mismos:"
   ]
  },
  {
   "cell_type": "code",
   "execution_count": 13,
   "metadata": {},
   "outputs": [
    {
     "name": "stdout",
     "output_type": "stream",
     "text": [
      "0  grados Centrigrados a Farenheit es =  32.0\n",
      "0  grados Centrigrados a Kelvin es =  273.15\n",
      "0  grados Farenheit a Centrigrados es =  -17.77777777777778\n",
      "0  grados Farenheit a Kelvin es =  215.54999999999998\n",
      "0  grados Kelvin a Centrigrados es =  -273.15\n",
      "0  grados Kelvin a Farenheit es =  -119.75\n",
      "37  grados Centrigrados a Farenheit es =  98.6\n",
      "37  grados Centrigrados a Kelvin es =  310.15\n",
      "37  grados Farenheit a Centrigrados es =  2.7777777777777777\n",
      "37  grados Farenheit a Kelvin es =  282.15\n",
      "37  grados Kelvin a Centrigrados es =  -236.14999999999998\n",
      "37  grados Kelvin a Farenheit es =  -99.19444444444446\n",
      "100  grados Centrigrados a Farenheit es =  212.0\n",
      "100  grados Centrigrados a Kelvin es =  373.15\n",
      "100  grados Farenheit a Centrigrados es =  37.77777777777778\n",
      "100  grados Farenheit a Kelvin es =  395.54999999999995\n",
      "100  grados Kelvin a Centrigrados es =  -173.14999999999998\n",
      "100  grados Kelvin a Farenheit es =  -64.19444444444443\n"
     ]
    }
   ],
   "source": [
    "t1 = 0\n",
    "t2 = 37\n",
    "t3 = 100\n",
    "\n",
    "temperaturas =[t1,t2,t3]\n",
    "\n",
    "for i in temperaturas:\n",
    "    grados=i\n",
    "    print(grados,' grados Centrigrados a Farenheit es = ', c_f(grados))\n",
    "    print(grados,' grados Centrigrados a Kelvin es = ', c_k(grados))\n",
    "    print(grados,' grados Farenheit a Centrigrados es = ', f_c(grados))\n",
    "    print(grados,' grados Farenheit a Kelvin es = ', f_k(grados))\n",
    "    print(grados,' grados Kelvin a Centrigrados es = ', k_c(grados))\n",
    "    print(grados,' grados Kelvin a Farenheit es = ', k_f(grados))\n",
    "    "
   ]
  },
  {
   "cell_type": "markdown",
   "metadata": {},
   "source": [
    "7) Armar una función que devuelva el factorial de un número. Tener en cuenta que el usuario puede equivocarse y enviar de parámetro un número no entero o negativo"
   ]
  },
  {
   "cell_type": "code",
   "execution_count": 57,
   "metadata": {},
   "outputs": [
    {
     "name": "stdout",
     "output_type": "stream",
     "text": [
      "20160\n"
     ]
    }
   ],
   "source": [
    "numero=input('Digite un numero para obtener el factorial')\n",
    "\n",
    "if(int(numero)<0):\n",
    "    print('debe digitar un numero entero positivo')\n",
    "elif(int(numero)==0):\n",
    "    print('El factorial es 0')\n",
    "else:\n",
    "    print(funcion(int(numero))) "
   ]
  },
  {
   "cell_type": "code",
   "execution_count": 37,
   "metadata": {},
   "outputs": [],
   "source": [
    "def funcion(numero):\n",
    "    while(numero-1>0):\n",
    "        if(numero-1==1):\n",
    "            return 1\n",
    "        else:\n",
    "            return numero*funcion(numero-1)\n",
    "    "
   ]
  },
  {
   "cell_type": "code",
   "execution_count": 52,
   "metadata": {},
   "outputs": [
    {
     "name": "stdout",
     "output_type": "stream",
     "text": [
      "<class 'str'>\n"
     ]
    }
   ],
   "source": [
    "numero=input('Digite un numero para obtener el factorial')\n",
    "print(type(numero))"
   ]
  }
 ],
 "metadata": {
  "interpreter": {
   "hash": "c43cc35bf10d47ee272d24c9e8f3a3c68ece12bba4bc202b3d531e99134b684d"
  },
  "kernelspec": {
   "display_name": "Python 3.10.2 64-bit",
   "language": "python",
   "name": "python3"
  },
  "language_info": {
   "codemirror_mode": {
    "name": "ipython",
    "version": 3
   },
   "file_extension": ".py",
   "mimetype": "text/x-python",
   "name": "python",
   "nbconvert_exporter": "python",
   "pygments_lexer": "ipython3",
   "version": "3.10.2"
  },
  "orig_nbformat": 4
 },
 "nbformat": 4,
 "nbformat_minor": 2
}
