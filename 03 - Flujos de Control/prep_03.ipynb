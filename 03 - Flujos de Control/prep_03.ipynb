{
 "cells": [
  {
   "cell_type": "code",
   "execution_count": 2,
   "metadata": {},
   "outputs": [
    {
     "name": "stdout",
     "output_type": "stream",
     "text": [
      "numero mayor que:  4\n"
     ]
    }
   ],
   "source": [
    "num = 4\n",
    "if (num < 2):\n",
    "    print('numero menor que: ', num)\n",
    "elif (num > 2):\n",
    "    print('numero mayor que: ', num)\n",
    "else:\n",
    "    print('numero igual a: ', num)\n",
    "    "
   ]
  },
  {
   "cell_type": "code",
   "execution_count": 5,
   "metadata": {},
   "outputs": [
    {
     "name": "stdout",
     "output_type": "stream",
     "text": [
      "hola  es  <class 'str'>  y  2  es  <class 'int'>\n"
     ]
    }
   ],
   "source": [
    "x1 = 'hola'\n",
    "x2 = 2\n",
    "if (type(x1) == type(x2)):\n",
    "    print(x1, 'y ', x2, ' son del mismo tipo ', type(x1))\n",
    "else:\n",
    "    print(x1, ' es ', type(x1),' y ', x2, ' es ', type(x2))\n"
   ]
  },
  {
   "cell_type": "code",
   "execution_count": 8,
   "metadata": {},
   "outputs": [
    {
     "name": "stdout",
     "output_type": "stream",
     "text": [
      "1 Es impar\n",
      "2 Es par\n",
      "3 Es impar\n",
      "4 Es par\n",
      "5 Es impar\n",
      "6 Es par\n",
      "7 Es impar\n",
      "8 Es par\n",
      "9 Es impar\n",
      "10 Es par\n",
      "11 Es impar\n",
      "12 Es par\n",
      "13 Es impar\n",
      "14 Es par\n",
      "15 Es impar\n",
      "16 Es par\n",
      "17 Es impar\n",
      "18 Es par\n",
      "19 Es impar\n"
     ]
    }
   ],
   "source": [
    "n=0\n",
    "for n in range(1,20):\n",
    "    if(n%2 == 0):\n",
    "        print(n,'Es par')\n",
    "    else:\n",
    "        print(n,'Es impar')\n",
    "        "
   ]
  },
  {
   "cell_type": "code",
   "execution_count": 10,
   "metadata": {},
   "outputs": [
    {
     "name": "stdout",
     "output_type": "stream",
     "text": [
      "0\n",
      "1\n",
      "8\n",
      "27\n",
      "64\n"
     ]
    }
   ],
   "source": [
    "pot=3\n",
    "for n in range(0,5):\n",
    "   print(n**pot)\n",
    "            "
   ]
  },
  {
   "cell_type": "code",
   "execution_count": 8,
   "metadata": {},
   "outputs": [
    {
     "name": "stdout",
     "output_type": "stream",
     "text": [
      "40320\n"
     ]
    }
   ],
   "source": [
    "\n",
    "numFact = int(input('introduce numero'))\n",
    "resultado = numFact\n",
    "if(numFact>1):\n",
    "    while(1<numFact):\n",
    "        resultado = resultado*(numFact-1)\n",
    "        numFact = numFact-1\n",
    "    \n",
    "    print(resultado\n",
    ")"
   ]
  },
  {
   "cell_type": "code",
   "execution_count": 13,
   "metadata": {},
   "outputs": [
    {
     "name": "stdout",
     "output_type": "stream",
     "text": [
      "ciclo  1  de  5  numeros\n",
      "ciclo  2  de  5  numeros\n",
      "ciclo  3  de  5  numeros\n",
      "ciclo  4  de  5  numeros\n",
      "ciclo  2  de  5  numeros\n",
      "ciclo  3  de  5  numeros\n",
      "ciclo  4  de  5  numeros\n",
      "ciclo  3  de  5  numeros\n",
      "ciclo  4  de  5  numeros\n",
      "ciclo  4  de  5  numeros\n"
     ]
    }
   ],
   "source": [
    "m = int(input('digite el numero'))\n",
    "for n in range(1,m):\n",
    "    while(n<m):\n",
    "        print('ciclo ', n, ' de ', m, ' numeros')\n",
    "        n=n+1"
   ]
  },
  {
   "cell_type": "code",
   "execution_count": 19,
   "metadata": {},
   "outputs": [
    {
     "name": "stdout",
     "output_type": "stream",
     "text": [
      "ronda  0  de  5\n",
      "ronda  1  de  5\n",
      "ronda  2  de  5\n",
      "ronda  3  de  5\n",
      "ronda  4  de  5\n",
      "paso una vez 1\n",
      "ronda  0  de  5\n",
      "ronda  1  de  5\n",
      "ronda  2  de  5\n",
      "ronda  3  de  5\n",
      "ronda  4  de  5\n",
      "paso una vez 2\n",
      "ronda  0  de  5\n",
      "ronda  1  de  5\n",
      "ronda  2  de  5\n",
      "ronda  3  de  5\n",
      "ronda  4  de  5\n",
      "paso una vez 3\n",
      "ronda  0  de  5\n",
      "ronda  1  de  5\n",
      "ronda  2  de  5\n",
      "ronda  3  de  5\n",
      "ronda  4  de  5\n",
      "paso una vez 4\n"
     ]
    }
   ],
   "source": []
  },
  {
   "cell_type": "code",
   "execution_count": 15,
   "metadata": {},
   "outputs": [
    {
     "name": "stdout",
     "output_type": "stream",
     "text": [
      "2  es primo\n",
      "3  es primo\n",
      "5  es primo\n",
      "7  es primo\n",
      "11  es primo\n",
      "13  es primo\n",
      "17  es primo\n",
      "19  es primo\n",
      "23  es primo\n",
      "29  es primo\n",
      "31  es primo\n",
      "37  es primo\n",
      "41  es primo\n",
      "43  es primo\n",
      "47  es primo\n",
      "53  es primo\n",
      "59  es primo\n",
      "61  es primo\n",
      "67  es primo\n",
      "71  es primo\n",
      "73  es primo\n",
      "79  es primo\n",
      "83  es primo\n",
      "89  es primo\n",
      "97  es primo\n",
      "101  es primo\n",
      "103  es primo\n",
      "107  es primo\n",
      "109  es primo\n",
      "113  es primo\n",
      "127  es primo\n",
      "131  es primo\n",
      "137  es primo\n",
      "139  es primo\n",
      "149  es primo\n",
      "151  es primo\n",
      "157  es primo\n",
      "163  es primo\n",
      "167  es primo\n",
      "173  es primo\n",
      "179  es primo\n",
      "181  es primo\n",
      "191  es primo\n",
      "193  es primo\n",
      "197  es primo\n",
      "199  es primo\n",
      "211  es primo\n",
      "223  es primo\n",
      "227  es primo\n",
      "229  es primo\n",
      "233  es primo\n",
      "239  es primo\n",
      "241  es primo\n",
      "251  es primo\n",
      "257  es primo\n",
      "263  es primo\n",
      "269  es primo\n",
      "271  es primo\n",
      "277  es primo\n",
      "281  es primo\n",
      "283  es primo\n",
      "293  es primo\n",
      "13488\n"
     ]
    }
   ],
   "source": [
    "cont = 1\n",
    "primo = 0\n",
    "ciclos = 0\n",
    "for numero in range(1,300):\n",
    "    while(cont <= numero):\n",
    "        if(numero%cont == 0):\n",
    "            primo+=1\n",
    "        if(primo>2):\n",
    "            break\n",
    "        cont+=1\n",
    "        ciclos+=1\n",
    "    if(primo==2):\n",
    "        print(numero, ' es primo')\n",
    "    \n",
    "    cont = 1\n",
    "    primo = 0\n",
    "print(ciclos)"
   ]
  },
  {
   "cell_type": "code",
   "execution_count": 19,
   "metadata": {},
   "outputs": [
    {
     "name": "stdout",
     "output_type": "stream",
     "text": [
      "108  es multiplo de 12\n",
      "120  es multiplo de 12\n",
      "132  es multiplo de 12\n",
      "144  es multiplo de 12\n",
      "156  es multiplo de 12\n",
      "168  es multiplo de 12\n",
      "180  es multiplo de 12\n",
      "192  es multiplo de 12\n",
      "204  es multiplo de 12\n",
      "216  es multiplo de 12\n",
      "228  es multiplo de 12\n",
      "240  es multiplo de 12\n",
      "252  es multiplo de 12\n",
      "264  es multiplo de 12\n",
      "276  es multiplo de 12\n",
      "288  es multiplo de 12\n",
      "300  es multiplo de 12\n"
     ]
    }
   ],
   "source": [
    "n = 100\n",
    "while(n>99 and n<=300):\n",
    "    if(n%12!=0):\n",
    "        n+=1\n",
    "        continue    \n",
    "    print(n, ' es multiplo de 12')\n",
    "    n+=1\n",
    "    "
   ]
  },
  {
   "cell_type": "code",
   "execution_count": 14,
   "metadata": {},
   "outputs": [
    {
     "name": "stdout",
     "output_type": "stream",
     "text": [
      "1 es primo\n",
      "2  es primo\n",
      "3  es primo\n",
      "5  es primo\n",
      "7  es primo\n",
      "11  es primo\n",
      "13  es primo\n",
      "17  es primo\n",
      "19  es primo\n",
      "23  es primo\n",
      "29  es primo\n"
     ]
    }
   ],
   "source": [
    "numero = 1\n",
    "cont = 1\n",
    "primo=0\n",
    "print('1 es primo')\n",
    "r=input('quiere saber el siguiente numero primo? s / n')\n",
    "\n",
    "while(r=='s'): \n",
    "    numero+=1\n",
    "    cont = 1\n",
    "    primo = 0\n",
    "    while(cont <= numero):\n",
    "        if(numero%cont == 0):\n",
    "            primo+=1\n",
    "        if(primo>2):\n",
    "            break\n",
    "        cont+=1\n",
    "    if(primo==2):\n",
    "        print(numero, ' es primo')\n",
    "        r=input('seguro quiere saber el siguiente numero primo? s / n')"
   ]
  },
  {
   "cell_type": "code",
   "execution_count": 17,
   "metadata": {},
   "outputs": [
    {
     "name": "stdout",
     "output_type": "stream",
     "text": [
      "102\n"
     ]
    }
   ],
   "source": [
    "for n in range(100, 300):\n",
    "    if(n%3 ==0 and n%6 ==0):\n",
    "        print(n)\n",
    "        break"
   ]
  },
  {
   "cell_type": "code",
   "execution_count": 18,
   "metadata": {},
   "outputs": [
    {
     "data": {
      "text/plain": [
       "0"
      ]
     },
     "execution_count": 18,
     "metadata": {},
     "output_type": "execute_result"
    }
   ],
   "source": [
    "102%6"
   ]
  },
  {
   "cell_type": "code",
   "execution_count": 19,
   "metadata": {},
   "outputs": [
    {
     "data": {
      "text/plain": [
       "0"
      ]
     },
     "execution_count": 19,
     "metadata": {},
     "output_type": "execute_result"
    }
   ],
   "source": [
    "102%3"
   ]
  }
 ],
 "metadata": {
  "interpreter": {
   "hash": "c43cc35bf10d47ee272d24c9e8f3a3c68ece12bba4bc202b3d531e99134b684d"
  },
  "kernelspec": {
   "display_name": "Python 3.10.2 64-bit",
   "language": "python",
   "name": "python3"
  },
  "language_info": {
   "codemirror_mode": {
    "name": "ipython",
    "version": 3
   },
   "file_extension": ".py",
   "mimetype": "text/x-python",
   "name": "python",
   "nbconvert_exporter": "python",
   "pygments_lexer": "ipython3",
   "version": "3.10.2"
  },
  "orig_nbformat": 4
 },
 "nbformat": 4,
 "nbformat_minor": 2
}
